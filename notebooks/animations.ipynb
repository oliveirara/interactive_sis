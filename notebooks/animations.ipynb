{
 "cells": [
  {
   "cell_type": "code",
   "execution_count": null,
   "metadata": {},
   "outputs": [],
   "source": [
    "from plots import *\n",
    "\n",
    "from ipywidgets import interactive, widgets\n",
    "from IPython.display import display\n",
    "\n",
    "%matplotlib inline"
   ]
  },
  {
   "cell_type": "code",
   "execution_count": null,
   "metadata": {},
   "outputs": [],
   "source": [
    "plt.rcParams['font.serif']='DejaVu Serif'\n",
    "plt.rcParams[\"font.family\"] = \"serif\"\n",
    "plt.rcParams['font.size'] = 22"
   ]
  },
  {
   "cell_type": "markdown",
   "metadata": {},
   "source": [
    "# Singular Isothermal Sphere and Elliptical Source"
   ]
  },
  {
   "cell_type": "code",
   "execution_count": null,
   "metadata": {},
   "outputs": [],
   "source": [
    "y = interactive(plot,s=widgets.FloatSlider(value=1e-5, min=1e-5, max=0.5,step=0.001, description='Position'),\\\n",
    "                phi_s=widgets.FloatSlider(value=1e-5, min=1e-5, max=np.pi,step=0.001, description='Orientation'),\n",
    "                e_s=widgets.FloatSlider(value=1e-5, min=1e-5, max=0.9,step=0.001, description='Ellipticity'),\\\n",
    "                R_0=widgets.FloatSlider(value=1e-5, min=1e-5, max=0.5,step=0.001, description='Size'),\\\n",
    "                g_amp=widgets.FloatSlider(value=1e-5, min=0, max=1.5,step=0.001, description='Peak Brightness'))"
   ]
  },
  {
   "cell_type": "code",
   "execution_count": null,
   "metadata": {},
   "outputs": [],
   "source": [
    "display(y)"
   ]
  }
 ],
 "metadata": {
  "kernelspec": {
   "display_name": "Python 3",
   "language": "python",
   "name": "python3"
  },
  "language_info": {
   "codemirror_mode": {
    "name": "ipython",
    "version": 3
   },
   "file_extension": ".py",
   "mimetype": "text/x-python",
   "name": "python",
   "nbconvert_exporter": "python",
   "pygments_lexer": "ipython3",
   "version": "3.7.7"
  }
 },
 "nbformat": 4,
 "nbformat_minor": 4
}
